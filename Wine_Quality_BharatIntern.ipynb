{
  "nbformat": 4,
  "nbformat_minor": 0,
  "metadata": {
    "colab": {
      "provenance": []
    },
    "kernelspec": {
      "name": "python3",
      "display_name": "Python 3"
    },
    "language_info": {
      "name": "python"
    }
  },
  "cells": [
    {
      "cell_type": "code",
      "execution_count": 78,
      "metadata": {
        "id": "52LDkBQJsYFE"
      },
      "outputs": [],
      "source": [
        "import pandas as pd\n",
        "import numpy as np\n",
        "import matplotlib as plt"
      ]
    },
    {
      "cell_type": "code",
      "source": [
        "data = pd.read_csv(\"WineQT.csv\")"
      ],
      "metadata": {
        "id": "lUtSCpbmvWtY"
      },
      "execution_count": 79,
      "outputs": []
    },
    {
      "cell_type": "code",
      "source": [
        "print(data)\n",
        "data.isnull().sum()"
      ],
      "metadata": {
        "colab": {
          "base_uri": "https://localhost:8080/"
        },
        "id": "PBU9DjhCvl-S",
        "outputId": "4dd36503-2f72-423f-e3f6-4c489b3a3ee2"
      },
      "execution_count": 80,
      "outputs": [
        {
          "output_type": "stream",
          "name": "stdout",
          "text": [
            "      fixed acidity  volatile acidity  citric acid  residual sugar  chlorides  \\\n",
            "0               7.4             0.700         0.00             1.9      0.076   \n",
            "1               7.8             0.880         0.00             2.6      0.098   \n",
            "2               7.8             0.760         0.04             2.3      0.092   \n",
            "3              11.2             0.280         0.56             1.9      0.075   \n",
            "4               7.4             0.700         0.00             1.9      0.076   \n",
            "...             ...               ...          ...             ...        ...   \n",
            "1138            6.3             0.510         0.13             2.3      0.076   \n",
            "1139            6.8             0.620         0.08             1.9      0.068   \n",
            "1140            6.2             0.600         0.08             2.0      0.090   \n",
            "1141            5.9             0.550         0.10             2.2      0.062   \n",
            "1142            5.9             0.645         0.12             2.0      0.075   \n",
            "\n",
            "      free sulfur dioxide  total sulfur dioxide  density    pH  sulphates  \\\n",
            "0                    11.0                  34.0  0.99780  3.51       0.56   \n",
            "1                    25.0                  67.0  0.99680  3.20       0.68   \n",
            "2                    15.0                  54.0  0.99700  3.26       0.65   \n",
            "3                    17.0                  60.0  0.99800  3.16       0.58   \n",
            "4                    11.0                  34.0  0.99780  3.51       0.56   \n",
            "...                   ...                   ...      ...   ...        ...   \n",
            "1138                 29.0                  40.0  0.99574  3.42       0.75   \n",
            "1139                 28.0                  38.0  0.99651  3.42       0.82   \n",
            "1140                 32.0                  44.0  0.99490  3.45       0.58   \n",
            "1141                 39.0                  51.0  0.99512  3.52       0.76   \n",
            "1142                 32.0                  44.0  0.99547  3.57       0.71   \n",
            "\n",
            "      alcohol  quality    Id  \n",
            "0         9.4        5     0  \n",
            "1         9.8        5     1  \n",
            "2         9.8        5     2  \n",
            "3         9.8        6     3  \n",
            "4         9.4        5     4  \n",
            "...       ...      ...   ...  \n",
            "1138     11.0        6  1592  \n",
            "1139      9.5        6  1593  \n",
            "1140     10.5        5  1594  \n",
            "1141     11.2        6  1595  \n",
            "1142     10.2        5  1597  \n",
            "\n",
            "[1143 rows x 13 columns]\n"
          ]
        },
        {
          "output_type": "execute_result",
          "data": {
            "text/plain": [
              "fixed acidity           0\n",
              "volatile acidity        0\n",
              "citric acid             0\n",
              "residual sugar          0\n",
              "chlorides               0\n",
              "free sulfur dioxide     0\n",
              "total sulfur dioxide    0\n",
              "density                 0\n",
              "pH                      0\n",
              "sulphates               0\n",
              "alcohol                 0\n",
              "quality                 0\n",
              "Id                      0\n",
              "dtype: int64"
            ]
          },
          "metadata": {},
          "execution_count": 80
        }
      ]
    },
    {
      "cell_type": "code",
      "source": [
        "x=data.drop('quality',axis=1).values\n",
        "y=data['quality'].values\n",
        "print(type(x))"
      ],
      "metadata": {
        "colab": {
          "base_uri": "https://localhost:8080/"
        },
        "id": "S1Vopg8fvoMb",
        "outputId": "ecb828ea-ebd4-447c-894c-704b56b99c62"
      },
      "execution_count": 81,
      "outputs": [
        {
          "output_type": "stream",
          "name": "stdout",
          "text": [
            "<class 'numpy.ndarray'>\n"
          ]
        }
      ]
    },
    {
      "cell_type": "code",
      "source": [
        "print(x)\n"
      ],
      "metadata": {
        "colab": {
          "base_uri": "https://localhost:8080/"
        },
        "id": "PT6DsWYZwch3",
        "outputId": "d8e26dc5-4acc-4eb7-99fa-d4365c16491e"
      },
      "execution_count": 82,
      "outputs": [
        {
          "output_type": "stream",
          "name": "stdout",
          "text": [
            "[[7.400e+00 7.000e-01 0.000e+00 ... 5.600e-01 9.400e+00 0.000e+00]\n",
            " [7.800e+00 8.800e-01 0.000e+00 ... 6.800e-01 9.800e+00 1.000e+00]\n",
            " [7.800e+00 7.600e-01 4.000e-02 ... 6.500e-01 9.800e+00 2.000e+00]\n",
            " ...\n",
            " [6.200e+00 6.000e-01 8.000e-02 ... 5.800e-01 1.050e+01 1.594e+03]\n",
            " [5.900e+00 5.500e-01 1.000e-01 ... 7.600e-01 1.120e+01 1.595e+03]\n",
            " [5.900e+00 6.450e-01 1.200e-01 ... 7.100e-01 1.020e+01 1.597e+03]]\n"
          ]
        }
      ]
    },
    {
      "cell_type": "code",
      "source": [
        "print(y)"
      ],
      "metadata": {
        "colab": {
          "base_uri": "https://localhost:8080/"
        },
        "id": "t9wmkIJ3wgRm",
        "outputId": "91556d49-8493-41cf-cfba-2407434de311"
      },
      "execution_count": 83,
      "outputs": [
        {
          "output_type": "stream",
          "name": "stdout",
          "text": [
            "[5 5 5 ... 5 6 5]\n"
          ]
        }
      ]
    },
    {
      "cell_type": "code",
      "source": [
        "y.shape"
      ],
      "metadata": {
        "colab": {
          "base_uri": "https://localhost:8080/"
        },
        "id": "cPbkw4sswmKo",
        "outputId": "54f6a25e-b0b2-4464-8236-e749e67bcac8"
      },
      "execution_count": 84,
      "outputs": [
        {
          "output_type": "execute_result",
          "data": {
            "text/plain": [
              "(1143,)"
            ]
          },
          "metadata": {},
          "execution_count": 84
        }
      ]
    },
    {
      "cell_type": "code",
      "source": [
        "from sklearn.preprocessing import LabelEncoder\n",
        "le = LabelEncoder()\n",
        "y = le.fit_transform(y)\n"
      ],
      "metadata": {
        "id": "lVVPZEIcypKA"
      },
      "execution_count": 97,
      "outputs": []
    },
    {
      "cell_type": "code",
      "source": [
        "from sklearn.model_selection import train_test_split\n",
        "x_train,x_test,y_train,y_test = train_test_split(x,y,test_size=0.2,random_state=0)"
      ],
      "metadata": {
        "id": "H44NnKYO0eMz"
      },
      "execution_count": 98,
      "outputs": []
    },
    {
      "cell_type": "code",
      "source": [
        "print(y_train)"
      ],
      "metadata": {
        "colab": {
          "base_uri": "https://localhost:8080/"
        },
        "id": "mo9CunVH1i-8",
        "outputId": "2bf8f1e8-36e2-4c2c-c400-3f705a4a2406"
      },
      "execution_count": 99,
      "outputs": [
        {
          "output_type": "stream",
          "name": "stdout",
          "text": [
            "[2 3 4 2 3 3 3 3 2 2 3 4 2 3 3 3 2 3 2 4 2 3 4 2 2 3 3 2 3 3 2 2 3 2 3 3 3\n",
            " 2 2 2 3 3 2 3 2 3 2 4 2 4 3 3 2 3 2 4 2 3 2 3 2 2 2 2 2 3 0 2 2 3 2 2 2 3\n",
            " 3 2 3 2 4 2 2 2 3 4 3 2 2 3 3 3 2 1 2 2 2 3 3 2 2 4 4 1 2 4 3 3 2 3 4 3 2\n",
            " 5 3 4 4 3 4 2 4 2 2 3 4 2 2 4 3 5 2 4 3 2 2 2 3 2 3 2 2 3 3 2 3 2 2 4 3 2\n",
            " 5 2 3 3 2 4 2 2 3 2 3 2 3 4 3 3 2 3 4 3 2 2 2 2 2 3 3 3 2 2 2 3 2 2 3 3 2\n",
            " 3 3 2 4 3 2 2 1 4 2 2 4 3 3 2 2 3 1 2 5 2 2 3 3 2 3 1 4 5 4 3 1 4 3 3 4 3\n",
            " 3 3 2 4 5 3 3 3 3 2 3 4 2 3 2 3 2 4 3 3 3 2 3 3 2 2 3 3 2 3 2 2 3 3 2 4 2\n",
            " 2 2 2 2 2 2 3 2 4 3 2 2 2 4 2 2 5 3 2 3 2 4 2 3 3 2 2 3 4 3 2 3 3 2 2 2 3\n",
            " 3 2 3 4 3 3 2 2 2 3 3 2 2 2 2 2 1 2 3 3 2 3 2 4 2 4 3 2 2 2 4 2 2 2 4 2 2\n",
            " 3 3 3 2 2 2 3 2 2 3 3 2 3 3 4 3 2 3 4 3 3 4 2 5 4 2 3 3 2 1 3 2 2 3 2 2 4\n",
            " 3 3 3 2 3 0 2 3 2 2 3 3 2 2 4 2 2 2 3 2 2 3 3 2 3 3 2 1 4 2 4 3 2 3 3 2 1\n",
            " 3 4 2 4 4 2 3 2 3 3 3 2 3 3 4 4 3 2 4 3 4 2 2 3 2 4 3 2 2 3 4 3 3 3 3 2 3\n",
            " 3 2 2 3 3 3 3 2 3 1 2 4 3 3 3 4 3 3 4 3 2 4 3 3 3 2 2 3 2 2 3 2 2 5 3 2 4\n",
            " 3 3 2 2 3 4 3 1 3 3 4 2 4 3 3 2 2 3 2 4 2 3 2 3 1 3 2 3 3 2 2 2 3 3 4 3 3\n",
            " 3 2 3 2 3 3 3 2 3 2 3 4 2 3 2 3 2 4 2 2 3 2 4 2 3 3 2 2 2 1 1 2 4 2 3 4 4\n",
            " 2 3 3 3 3 4 2 2 3 3 3 3 2 2 2 2 2 4 3 2 3 1 2 1 3 4 2 3 2 1 2 4 3 4 2 3 2\n",
            " 3 3 3 3 1 3 3 3 2 2 2 3 2 2 3 2 3 3 3 2 3 2 2 3 2 3 2 2 2 3 2 2 3 3 2 3 3\n",
            " 2 3 2 4 2 4 3 2 2 5 3 4 4 2 4 1 3 2 3 2 2 2 3 3 2 3 3 2 3 2 1 3 1 2 3 2 3\n",
            " 3 5 3 4 4 3 4 4 3 2 2 3 2 2 2 2 2 3 3 3 3 2 4 2 1 3 3 3 2 4 2 3 3 3 3 2 3\n",
            " 3 3 4 2 3 3 2 5 3 4 3 3 2 2 2 2 2 3 0 4 3 3 3 2 3 3 3 2 2 3 3 3 2 2 2 5 2\n",
            " 3 2 2 2 3 4 3 2 3 2 1 2 4 3 2 3 3 2 3 2 4 4 3 2 2 2 2 2 2 3 3 3 3 2 3 2 3\n",
            " 3 3 2 4 2 3 2 4 3 2 3 3 2 2 2 2 2 3 2 4 2 2 4 2 2 3 2 3 1 3 3 2 2 2 3 2 2\n",
            " 2 3 2 1 2 3 2 3 3 2 2 3 3 2 2 4 3 0 2 3 3 3 3 3 2 3 3 3 3 4 3 2 2 3 3 0 2\n",
            " 3 4 3 4 3 2 3 3 2 3 2 3 2 2 3 2 2 2 3 4 2 3 2 3 2 3 3 3 3 2 2 4 2 2 3 2 2\n",
            " 3 2 5 3 4 2 2 3 2 3 2 4 3 2 2 4 2 2 3 4 2 4 3 2 2 4]\n"
          ]
        }
      ]
    },
    {
      "cell_type": "code",
      "source": [
        "from xgboost import XGBClassifier\n",
        "classifier = XGBClassifier()\n",
        "classifier.fit(x_train,y_train)\n"
      ],
      "metadata": {
        "colab": {
          "base_uri": "https://localhost:8080/",
          "height": 248
        },
        "id": "rIzNoC79wxqF",
        "outputId": "29281bfb-05a8-46f8-f874-08334e46f788"
      },
      "execution_count": 119,
      "outputs": [
        {
          "output_type": "execute_result",
          "data": {
            "text/plain": [
              "XGBClassifier(base_score=None, booster=None, callbacks=None,\n",
              "              colsample_bylevel=None, colsample_bynode=None,\n",
              "              colsample_bytree=None, early_stopping_rounds=None,\n",
              "              enable_categorical=False, eval_metric=None, feature_types=None,\n",
              "              gamma=None, gpu_id=None, grow_policy=None, importance_type=None,\n",
              "              interaction_constraints=None, learning_rate=None, max_bin=None,\n",
              "              max_cat_threshold=None, max_cat_to_onehot=None,\n",
              "              max_delta_step=None, max_depth=None, max_leaves=None,\n",
              "              min_child_weight=None, missing=nan, monotone_constraints=None,\n",
              "              n_estimators=100, n_jobs=None, num_parallel_tree=None,\n",
              "              objective='multi:softprob', predictor=None, ...)"
            ],
            "text/html": [
              "<style>#sk-container-id-5 {color: black;background-color: white;}#sk-container-id-5 pre{padding: 0;}#sk-container-id-5 div.sk-toggleable {background-color: white;}#sk-container-id-5 label.sk-toggleable__label {cursor: pointer;display: block;width: 100%;margin-bottom: 0;padding: 0.3em;box-sizing: border-box;text-align: center;}#sk-container-id-5 label.sk-toggleable__label-arrow:before {content: \"▸\";float: left;margin-right: 0.25em;color: #696969;}#sk-container-id-5 label.sk-toggleable__label-arrow:hover:before {color: black;}#sk-container-id-5 div.sk-estimator:hover label.sk-toggleable__label-arrow:before {color: black;}#sk-container-id-5 div.sk-toggleable__content {max-height: 0;max-width: 0;overflow: hidden;text-align: left;background-color: #f0f8ff;}#sk-container-id-5 div.sk-toggleable__content pre {margin: 0.2em;color: black;border-radius: 0.25em;background-color: #f0f8ff;}#sk-container-id-5 input.sk-toggleable__control:checked~div.sk-toggleable__content {max-height: 200px;max-width: 100%;overflow: auto;}#sk-container-id-5 input.sk-toggleable__control:checked~label.sk-toggleable__label-arrow:before {content: \"▾\";}#sk-container-id-5 div.sk-estimator input.sk-toggleable__control:checked~label.sk-toggleable__label {background-color: #d4ebff;}#sk-container-id-5 div.sk-label input.sk-toggleable__control:checked~label.sk-toggleable__label {background-color: #d4ebff;}#sk-container-id-5 input.sk-hidden--visually {border: 0;clip: rect(1px 1px 1px 1px);clip: rect(1px, 1px, 1px, 1px);height: 1px;margin: -1px;overflow: hidden;padding: 0;position: absolute;width: 1px;}#sk-container-id-5 div.sk-estimator {font-family: monospace;background-color: #f0f8ff;border: 1px dotted black;border-radius: 0.25em;box-sizing: border-box;margin-bottom: 0.5em;}#sk-container-id-5 div.sk-estimator:hover {background-color: #d4ebff;}#sk-container-id-5 div.sk-parallel-item::after {content: \"\";width: 100%;border-bottom: 1px solid gray;flex-grow: 1;}#sk-container-id-5 div.sk-label:hover label.sk-toggleable__label {background-color: #d4ebff;}#sk-container-id-5 div.sk-serial::before {content: \"\";position: absolute;border-left: 1px solid gray;box-sizing: border-box;top: 0;bottom: 0;left: 50%;z-index: 0;}#sk-container-id-5 div.sk-serial {display: flex;flex-direction: column;align-items: center;background-color: white;padding-right: 0.2em;padding-left: 0.2em;position: relative;}#sk-container-id-5 div.sk-item {position: relative;z-index: 1;}#sk-container-id-5 div.sk-parallel {display: flex;align-items: stretch;justify-content: center;background-color: white;position: relative;}#sk-container-id-5 div.sk-item::before, #sk-container-id-5 div.sk-parallel-item::before {content: \"\";position: absolute;border-left: 1px solid gray;box-sizing: border-box;top: 0;bottom: 0;left: 50%;z-index: -1;}#sk-container-id-5 div.sk-parallel-item {display: flex;flex-direction: column;z-index: 1;position: relative;background-color: white;}#sk-container-id-5 div.sk-parallel-item:first-child::after {align-self: flex-end;width: 50%;}#sk-container-id-5 div.sk-parallel-item:last-child::after {align-self: flex-start;width: 50%;}#sk-container-id-5 div.sk-parallel-item:only-child::after {width: 0;}#sk-container-id-5 div.sk-dashed-wrapped {border: 1px dashed gray;margin: 0 0.4em 0.5em 0.4em;box-sizing: border-box;padding-bottom: 0.4em;background-color: white;}#sk-container-id-5 div.sk-label label {font-family: monospace;font-weight: bold;display: inline-block;line-height: 1.2em;}#sk-container-id-5 div.sk-label-container {text-align: center;}#sk-container-id-5 div.sk-container {/* jupyter's `normalize.less` sets `[hidden] { display: none; }` but bootstrap.min.css set `[hidden] { display: none !important; }` so we also need the `!important` here to be able to override the default hidden behavior on the sphinx rendered scikit-learn.org. See: https://github.com/scikit-learn/scikit-learn/issues/21755 */display: inline-block !important;position: relative;}#sk-container-id-5 div.sk-text-repr-fallback {display: none;}</style><div id=\"sk-container-id-5\" class=\"sk-top-container\"><div class=\"sk-text-repr-fallback\"><pre>XGBClassifier(base_score=None, booster=None, callbacks=None,\n",
              "              colsample_bylevel=None, colsample_bynode=None,\n",
              "              colsample_bytree=None, early_stopping_rounds=None,\n",
              "              enable_categorical=False, eval_metric=None, feature_types=None,\n",
              "              gamma=None, gpu_id=None, grow_policy=None, importance_type=None,\n",
              "              interaction_constraints=None, learning_rate=None, max_bin=None,\n",
              "              max_cat_threshold=None, max_cat_to_onehot=None,\n",
              "              max_delta_step=None, max_depth=None, max_leaves=None,\n",
              "              min_child_weight=None, missing=nan, monotone_constraints=None,\n",
              "              n_estimators=100, n_jobs=None, num_parallel_tree=None,\n",
              "              objective=&#x27;multi:softprob&#x27;, predictor=None, ...)</pre><b>In a Jupyter environment, please rerun this cell to show the HTML representation or trust the notebook. <br />On GitHub, the HTML representation is unable to render, please try loading this page with nbviewer.org.</b></div><div class=\"sk-container\" hidden><div class=\"sk-item\"><div class=\"sk-estimator sk-toggleable\"><input class=\"sk-toggleable__control sk-hidden--visually\" id=\"sk-estimator-id-5\" type=\"checkbox\" checked><label for=\"sk-estimator-id-5\" class=\"sk-toggleable__label sk-toggleable__label-arrow\">XGBClassifier</label><div class=\"sk-toggleable__content\"><pre>XGBClassifier(base_score=None, booster=None, callbacks=None,\n",
              "              colsample_bylevel=None, colsample_bynode=None,\n",
              "              colsample_bytree=None, early_stopping_rounds=None,\n",
              "              enable_categorical=False, eval_metric=None, feature_types=None,\n",
              "              gamma=None, gpu_id=None, grow_policy=None, importance_type=None,\n",
              "              interaction_constraints=None, learning_rate=None, max_bin=None,\n",
              "              max_cat_threshold=None, max_cat_to_onehot=None,\n",
              "              max_delta_step=None, max_depth=None, max_leaves=None,\n",
              "              min_child_weight=None, missing=nan, monotone_constraints=None,\n",
              "              n_estimators=100, n_jobs=None, num_parallel_tree=None,\n",
              "              objective=&#x27;multi:softprob&#x27;, predictor=None, ...)</pre></div></div></div></div></div>"
            ]
          },
          "metadata": {},
          "execution_count": 119
        }
      ]
    },
    {
      "cell_type": "code",
      "source": [
        "classifier.fit(X = x_train,y=y_train)"
      ],
      "metadata": {
        "colab": {
          "base_uri": "https://localhost:8080/",
          "height": 248
        },
        "id": "ekkbabe8x-gG",
        "outputId": "fa609314-7361-449e-8a03-915a5780e104"
      },
      "execution_count": 120,
      "outputs": [
        {
          "output_type": "execute_result",
          "data": {
            "text/plain": [
              "XGBClassifier(base_score=None, booster=None, callbacks=None,\n",
              "              colsample_bylevel=None, colsample_bynode=None,\n",
              "              colsample_bytree=None, early_stopping_rounds=None,\n",
              "              enable_categorical=False, eval_metric=None, feature_types=None,\n",
              "              gamma=None, gpu_id=None, grow_policy=None, importance_type=None,\n",
              "              interaction_constraints=None, learning_rate=None, max_bin=None,\n",
              "              max_cat_threshold=None, max_cat_to_onehot=None,\n",
              "              max_delta_step=None, max_depth=None, max_leaves=None,\n",
              "              min_child_weight=None, missing=nan, monotone_constraints=None,\n",
              "              n_estimators=100, n_jobs=None, num_parallel_tree=None,\n",
              "              objective='multi:softprob', predictor=None, ...)"
            ],
            "text/html": [
              "<style>#sk-container-id-6 {color: black;background-color: white;}#sk-container-id-6 pre{padding: 0;}#sk-container-id-6 div.sk-toggleable {background-color: white;}#sk-container-id-6 label.sk-toggleable__label {cursor: pointer;display: block;width: 100%;margin-bottom: 0;padding: 0.3em;box-sizing: border-box;text-align: center;}#sk-container-id-6 label.sk-toggleable__label-arrow:before {content: \"▸\";float: left;margin-right: 0.25em;color: #696969;}#sk-container-id-6 label.sk-toggleable__label-arrow:hover:before {color: black;}#sk-container-id-6 div.sk-estimator:hover label.sk-toggleable__label-arrow:before {color: black;}#sk-container-id-6 div.sk-toggleable__content {max-height: 0;max-width: 0;overflow: hidden;text-align: left;background-color: #f0f8ff;}#sk-container-id-6 div.sk-toggleable__content pre {margin: 0.2em;color: black;border-radius: 0.25em;background-color: #f0f8ff;}#sk-container-id-6 input.sk-toggleable__control:checked~div.sk-toggleable__content {max-height: 200px;max-width: 100%;overflow: auto;}#sk-container-id-6 input.sk-toggleable__control:checked~label.sk-toggleable__label-arrow:before {content: \"▾\";}#sk-container-id-6 div.sk-estimator input.sk-toggleable__control:checked~label.sk-toggleable__label {background-color: #d4ebff;}#sk-container-id-6 div.sk-label input.sk-toggleable__control:checked~label.sk-toggleable__label {background-color: #d4ebff;}#sk-container-id-6 input.sk-hidden--visually {border: 0;clip: rect(1px 1px 1px 1px);clip: rect(1px, 1px, 1px, 1px);height: 1px;margin: -1px;overflow: hidden;padding: 0;position: absolute;width: 1px;}#sk-container-id-6 div.sk-estimator {font-family: monospace;background-color: #f0f8ff;border: 1px dotted black;border-radius: 0.25em;box-sizing: border-box;margin-bottom: 0.5em;}#sk-container-id-6 div.sk-estimator:hover {background-color: #d4ebff;}#sk-container-id-6 div.sk-parallel-item::after {content: \"\";width: 100%;border-bottom: 1px solid gray;flex-grow: 1;}#sk-container-id-6 div.sk-label:hover label.sk-toggleable__label {background-color: #d4ebff;}#sk-container-id-6 div.sk-serial::before {content: \"\";position: absolute;border-left: 1px solid gray;box-sizing: border-box;top: 0;bottom: 0;left: 50%;z-index: 0;}#sk-container-id-6 div.sk-serial {display: flex;flex-direction: column;align-items: center;background-color: white;padding-right: 0.2em;padding-left: 0.2em;position: relative;}#sk-container-id-6 div.sk-item {position: relative;z-index: 1;}#sk-container-id-6 div.sk-parallel {display: flex;align-items: stretch;justify-content: center;background-color: white;position: relative;}#sk-container-id-6 div.sk-item::before, #sk-container-id-6 div.sk-parallel-item::before {content: \"\";position: absolute;border-left: 1px solid gray;box-sizing: border-box;top: 0;bottom: 0;left: 50%;z-index: -1;}#sk-container-id-6 div.sk-parallel-item {display: flex;flex-direction: column;z-index: 1;position: relative;background-color: white;}#sk-container-id-6 div.sk-parallel-item:first-child::after {align-self: flex-end;width: 50%;}#sk-container-id-6 div.sk-parallel-item:last-child::after {align-self: flex-start;width: 50%;}#sk-container-id-6 div.sk-parallel-item:only-child::after {width: 0;}#sk-container-id-6 div.sk-dashed-wrapped {border: 1px dashed gray;margin: 0 0.4em 0.5em 0.4em;box-sizing: border-box;padding-bottom: 0.4em;background-color: white;}#sk-container-id-6 div.sk-label label {font-family: monospace;font-weight: bold;display: inline-block;line-height: 1.2em;}#sk-container-id-6 div.sk-label-container {text-align: center;}#sk-container-id-6 div.sk-container {/* jupyter's `normalize.less` sets `[hidden] { display: none; }` but bootstrap.min.css set `[hidden] { display: none !important; }` so we also need the `!important` here to be able to override the default hidden behavior on the sphinx rendered scikit-learn.org. See: https://github.com/scikit-learn/scikit-learn/issues/21755 */display: inline-block !important;position: relative;}#sk-container-id-6 div.sk-text-repr-fallback {display: none;}</style><div id=\"sk-container-id-6\" class=\"sk-top-container\"><div class=\"sk-text-repr-fallback\"><pre>XGBClassifier(base_score=None, booster=None, callbacks=None,\n",
              "              colsample_bylevel=None, colsample_bynode=None,\n",
              "              colsample_bytree=None, early_stopping_rounds=None,\n",
              "              enable_categorical=False, eval_metric=None, feature_types=None,\n",
              "              gamma=None, gpu_id=None, grow_policy=None, importance_type=None,\n",
              "              interaction_constraints=None, learning_rate=None, max_bin=None,\n",
              "              max_cat_threshold=None, max_cat_to_onehot=None,\n",
              "              max_delta_step=None, max_depth=None, max_leaves=None,\n",
              "              min_child_weight=None, missing=nan, monotone_constraints=None,\n",
              "              n_estimators=100, n_jobs=None, num_parallel_tree=None,\n",
              "              objective=&#x27;multi:softprob&#x27;, predictor=None, ...)</pre><b>In a Jupyter environment, please rerun this cell to show the HTML representation or trust the notebook. <br />On GitHub, the HTML representation is unable to render, please try loading this page with nbviewer.org.</b></div><div class=\"sk-container\" hidden><div class=\"sk-item\"><div class=\"sk-estimator sk-toggleable\"><input class=\"sk-toggleable__control sk-hidden--visually\" id=\"sk-estimator-id-6\" type=\"checkbox\" checked><label for=\"sk-estimator-id-6\" class=\"sk-toggleable__label sk-toggleable__label-arrow\">XGBClassifier</label><div class=\"sk-toggleable__content\"><pre>XGBClassifier(base_score=None, booster=None, callbacks=None,\n",
              "              colsample_bylevel=None, colsample_bynode=None,\n",
              "              colsample_bytree=None, early_stopping_rounds=None,\n",
              "              enable_categorical=False, eval_metric=None, feature_types=None,\n",
              "              gamma=None, gpu_id=None, grow_policy=None, importance_type=None,\n",
              "              interaction_constraints=None, learning_rate=None, max_bin=None,\n",
              "              max_cat_threshold=None, max_cat_to_onehot=None,\n",
              "              max_delta_step=None, max_depth=None, max_leaves=None,\n",
              "              min_child_weight=None, missing=nan, monotone_constraints=None,\n",
              "              n_estimators=100, n_jobs=None, num_parallel_tree=None,\n",
              "              objective=&#x27;multi:softprob&#x27;, predictor=None, ...)</pre></div></div></div></div></div>"
            ]
          },
          "metadata": {},
          "execution_count": 120
        }
      ]
    },
    {
      "cell_type": "code",
      "source": [
        "y_pred = classifier.predict(x_test)"
      ],
      "metadata": {
        "id": "enRhUYm0yGrq"
      },
      "execution_count": 121,
      "outputs": []
    },
    {
      "cell_type": "code",
      "source": [
        "np.printoptions(precision=2)\n",
        "print(np.concatenate((y_pred.reshape(-1,1),y_test.reshape(-1,1)),1))"
      ],
      "metadata": {
        "colab": {
          "base_uri": "https://localhost:8080/"
        },
        "id": "Hg2iYOow173I",
        "outputId": "009e78eb-134e-450e-d818-03469d1454f2"
      },
      "execution_count": 122,
      "outputs": [
        {
          "output_type": "stream",
          "name": "stdout",
          "text": [
            "[[2 2]\n",
            " [3 1]\n",
            " [2 3]\n",
            " [3 3]\n",
            " [2 2]\n",
            " [3 3]\n",
            " [3 2]\n",
            " [3 3]\n",
            " [3 3]\n",
            " [3 4]\n",
            " [2 2]\n",
            " [2 3]\n",
            " [2 3]\n",
            " [2 2]\n",
            " [3 3]\n",
            " [2 3]\n",
            " [3 3]\n",
            " [3 3]\n",
            " [2 2]\n",
            " [2 2]\n",
            " [4 3]\n",
            " [2 2]\n",
            " [2 4]\n",
            " [3 3]\n",
            " [2 2]\n",
            " [3 2]\n",
            " [2 2]\n",
            " [3 3]\n",
            " [3 3]\n",
            " [3 2]\n",
            " [2 3]\n",
            " [2 2]\n",
            " [3 2]\n",
            " [3 3]\n",
            " [3 2]\n",
            " [3 3]\n",
            " [2 3]\n",
            " [3 1]\n",
            " [2 2]\n",
            " [3 3]\n",
            " [2 2]\n",
            " [3 3]\n",
            " [3 3]\n",
            " [3 3]\n",
            " [2 2]\n",
            " [2 2]\n",
            " [2 2]\n",
            " [4 4]\n",
            " [3 5]\n",
            " [3 3]\n",
            " [3 3]\n",
            " [2 2]\n",
            " [2 2]\n",
            " [4 4]\n",
            " [2 2]\n",
            " [2 2]\n",
            " [3 2]\n",
            " [2 2]\n",
            " [2 2]\n",
            " [2 3]\n",
            " [2 3]\n",
            " [2 2]\n",
            " [3 3]\n",
            " [2 2]\n",
            " [2 3]\n",
            " [2 2]\n",
            " [3 3]\n",
            " [2 2]\n",
            " [3 2]\n",
            " [4 4]\n",
            " [2 2]\n",
            " [2 2]\n",
            " [3 3]\n",
            " [4 4]\n",
            " [3 3]\n",
            " [4 4]\n",
            " [2 3]\n",
            " [3 4]\n",
            " [3 2]\n",
            " [3 4]\n",
            " [2 2]\n",
            " [3 2]\n",
            " [3 3]\n",
            " [2 2]\n",
            " [3 3]\n",
            " [3 3]\n",
            " [3 3]\n",
            " [2 2]\n",
            " [2 2]\n",
            " [3 4]\n",
            " [3 3]\n",
            " [4 4]\n",
            " [2 1]\n",
            " [2 2]\n",
            " [2 3]\n",
            " [2 3]\n",
            " [2 2]\n",
            " [2 2]\n",
            " [2 2]\n",
            " [2 2]\n",
            " [2 0]\n",
            " [3 2]\n",
            " [5 5]\n",
            " [2 2]\n",
            " [2 3]\n",
            " [3 3]\n",
            " [2 3]\n",
            " [3 3]\n",
            " [2 2]\n",
            " [2 2]\n",
            " [2 2]\n",
            " [2 2]\n",
            " [2 2]\n",
            " [4 4]\n",
            " [2 3]\n",
            " [2 3]\n",
            " [2 3]\n",
            " [3 3]\n",
            " [3 3]\n",
            " [4 3]\n",
            " [2 2]\n",
            " [2 2]\n",
            " [3 2]\n",
            " [3 3]\n",
            " [4 3]\n",
            " [3 3]\n",
            " [3 3]\n",
            " [3 4]\n",
            " [2 2]\n",
            " [2 3]\n",
            " [4 4]\n",
            " [3 3]\n",
            " [2 3]\n",
            " [2 2]\n",
            " [3 3]\n",
            " [3 3]\n",
            " [2 2]\n",
            " [4 3]\n",
            " [2 3]\n",
            " [2 2]\n",
            " [3 2]\n",
            " [2 3]\n",
            " [3 3]\n",
            " [4 4]\n",
            " [3 2]\n",
            " [3 2]\n",
            " [3 3]\n",
            " [3 4]\n",
            " [3 3]\n",
            " [2 2]\n",
            " [2 2]\n",
            " [3 3]\n",
            " [3 3]\n",
            " [3 3]\n",
            " [2 2]\n",
            " [3 2]\n",
            " [3 2]\n",
            " [3 3]\n",
            " [3 2]\n",
            " [3 3]\n",
            " [2 2]\n",
            " [4 3]\n",
            " [2 2]\n",
            " [2 2]\n",
            " [2 2]\n",
            " [2 2]\n",
            " [3 4]\n",
            " [4 4]\n",
            " [2 4]\n",
            " [2 3]\n",
            " [2 2]\n",
            " [2 1]\n",
            " [2 2]\n",
            " [2 4]\n",
            " [2 3]\n",
            " [3 3]\n",
            " [3 3]\n",
            " [2 2]\n",
            " [2 2]\n",
            " [3 3]\n",
            " [2 2]\n",
            " [2 2]\n",
            " [3 2]\n",
            " [2 2]\n",
            " [2 2]\n",
            " [3 3]\n",
            " [2 2]\n",
            " [2 1]\n",
            " [3 1]\n",
            " [3 2]\n",
            " [4 4]\n",
            " [2 2]\n",
            " [2 2]\n",
            " [3 3]\n",
            " [3 3]\n",
            " [2 2]\n",
            " [2 2]\n",
            " [3 3]\n",
            " [3 3]\n",
            " [2 3]\n",
            " [3 2]\n",
            " [4 3]\n",
            " [3 1]\n",
            " [4 4]\n",
            " [4 4]\n",
            " [3 4]\n",
            " [2 2]\n",
            " [2 2]\n",
            " [2 2]\n",
            " [2 2]\n",
            " [3 3]\n",
            " [3 3]\n",
            " [3 3]\n",
            " [3 4]\n",
            " [3 2]\n",
            " [2 2]\n",
            " [3 3]\n",
            " [4 3]\n",
            " [2 2]\n",
            " [4 4]\n",
            " [2 3]\n",
            " [3 3]\n",
            " [3 3]\n",
            " [3 2]\n",
            " [2 2]\n",
            " [3 3]\n",
            " [4 4]\n",
            " [2 2]\n",
            " [2 2]]\n"
          ]
        }
      ]
    },
    {
      "cell_type": "code",
      "source": [
        "from sklearn.metrics import accuracy_score,confusion_matrix\n",
        "cm = confusion_matrix(y_test,y_pred)\n",
        "print(cm)"
      ],
      "metadata": {
        "colab": {
          "base_uri": "https://localhost:8080/"
        },
        "id": "zz9-WFf127v-",
        "outputId": "eaceb564-d7ad-4c8c-d150-584c57a5dac7"
      },
      "execution_count": 123,
      "outputs": [
        {
          "output_type": "stream",
          "name": "stdout",
          "text": [
            "[[ 0  0  1  0  0  0]\n",
            " [ 0  0  3  4  0  0]\n",
            " [ 0  0 78 22  0  0]\n",
            " [ 0  0 25 60  7  0]\n",
            " [ 0  0  3  9 15  0]\n",
            " [ 0  0  0  1  0  1]]\n"
          ]
        }
      ]
    },
    {
      "cell_type": "code",
      "source": [
        "print(accuracy_score(y_test, y_pred))\n"
      ],
      "metadata": {
        "colab": {
          "base_uri": "https://localhost:8080/"
        },
        "id": "R_7k-5RG3pEJ",
        "outputId": "5623b80a-5cb4-4092-9315-93fb560b8e7e"
      },
      "execution_count": 124,
      "outputs": [
        {
          "output_type": "stream",
          "name": "stdout",
          "text": [
            "0.6724890829694323\n"
          ]
        }
      ]
    },
    {
      "cell_type": "code",
      "source": [
        "from sklearn.model_selection import cross_val_score\n",
        "accuracies = cross_val_score(estimator = classifier, X = x_train, y = y_train, cv = 10)\n",
        "print(\"Accuracy: {:.2f} %\".format(accuracies.mean()*100))\n",
        "print(\"Standard Deviation: {:.2f} %\".format(accuracies.std()*100))\n"
      ],
      "metadata": {
        "colab": {
          "base_uri": "https://localhost:8080/"
        },
        "id": "j48Fwppk32EM",
        "outputId": "46677e5d-7b74-4502-85dd-db8d3df0d58c"
      },
      "execution_count": 125,
      "outputs": [
        {
          "output_type": "stream",
          "name": "stderr",
          "text": [
            "/usr/local/lib/python3.10/dist-packages/sklearn/model_selection/_split.py:700: UserWarning: The least populated class in y has only 5 members, which is less than n_splits=10.\n",
            "  warnings.warn(\n"
          ]
        },
        {
          "output_type": "stream",
          "name": "stdout",
          "text": [
            "Accuracy: 61.72 %\n",
            "Standard Deviation: 4.34 %\n"
          ]
        }
      ]
    },
    {
      "cell_type": "code",
      "source": [
        "from sklearn.model_selection import GridSearchCV\n",
        "parameters = [{'C': [0.25, 0.5, 0.75, 1], 'kernel': ['linear']},\n",
        "              {'C': [0.25, 0.5, 0.75, 1], 'kernel': ['rbf'], 'gamma': [0.1, 0.2, 0.3, 0.4, 0.5, 0.6, 0.7, 0.8, 0.9]}]\n",
        "grid_search = GridSearchCV(estimator = classifier,\n",
        "                           param_grid = parameters,\n",
        "                           scoring = 'accuracy',\n",
        "                           cv = 10,\n",
        "                           n_jobs = -1)\n",
        "grid_search.fit(x_train, y_train)\n",
        "best_accuracy = grid_search.best_score_\n",
        "best_parameters = grid_search.best_params_\n",
        "print(\"Best Accuracy: {:.2f} %\".format(best_accuracy*100))\n",
        "print(\"Best Parameters:\", best_parameters)\n"
      ],
      "metadata": {
        "colab": {
          "base_uri": "https://localhost:8080/"
        },
        "id": "lAZYTute5FeP",
        "outputId": "ac4c36e5-5a98-47a9-e0f5-1a26547fdc1a"
      },
      "execution_count": 126,
      "outputs": [
        {
          "output_type": "stream",
          "name": "stderr",
          "text": [
            "/usr/local/lib/python3.10/dist-packages/sklearn/model_selection/_split.py:700: UserWarning: The least populated class in y has only 5 members, which is less than n_splits=10.\n",
            "  warnings.warn(\n"
          ]
        },
        {
          "output_type": "stream",
          "name": "stdout",
          "text": [
            "[12:13:25] WARNING: ../src/learner.cc:767: \n",
            "Parameters: { \"C\", \"kernel\" } are not used.\n",
            "\n",
            "Best Accuracy: 62.92 %\n",
            "Best Parameters: {'C': 0.25, 'gamma': 0.6, 'kernel': 'rbf'}\n"
          ]
        }
      ]
    },
    {
      "cell_type": "code",
      "source": [],
      "metadata": {
        "id": "bUowNJub5aDa"
      },
      "execution_count": null,
      "outputs": []
    }
  ]
}